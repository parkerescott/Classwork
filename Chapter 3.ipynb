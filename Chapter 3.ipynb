{
 "cells": [
  {
   "cell_type": "code",
   "execution_count": 1,
   "metadata": {},
   "outputs": [],
   "source": [
    "def CalculateGrade (score):\n",
    "    strGrade=\"Keep Working\"\n",
    "    if score>=90: \n",
    "        strGrade= \"A\"\n",
    "    elif score>=80 and score<=89:\n",
    "        strGrade= \"B\"\n",
    "    elif score>=70 and score<=79:\n",
    "        strGrade=\"C\"\n",
    "    return strGrade"
   ]
  },
  {
   "cell_type": "code",
   "execution_count": 3,
   "metadata": {},
   "outputs": [
    {
     "name": "stdout",
     "output_type": "stream",
     "text": [
      "A\n"
     ]
    }
   ],
   "source": [
    "score=90\n",
    "strGrade=CalculateGrade(score)\n",
    "print(strGrade)"
   ]
  },
  {
   "cell_type": "code",
   "execution_count": 7,
   "metadata": {},
   "outputs": [],
   "source": [
    "def CalculateWeightedGrade(grade, weight):\n",
    "    return grade * (weight/100)"
   ]
  },
  {
   "cell_type": "code",
   "execution_count": 12,
   "metadata": {},
   "outputs": [],
   "source": [
    "intQuiz=int(input(\"enter your quiz grade\"))\n",
    "intMidterm=int(input(\"enter the midterm grade\"))\n",
    "intFinal=int(input(\"enter the final grade\"))\n",
    "intQuizWeight=10\n",
    "intMidtermWeight=40\n",
    "intFinalWeight=50\n",
    "floatQuizWeighted=CalculateWeightedGrade(intQuiz,intQuizWeight)\n",
    "floatMidtermWeighted=CalculateWeightedGrade(intMidterm,intMidtermWeight)\n",
    "floatFinalWeighted=CalculateWeightedGrade(intFinal,intFinalWeight)"
   ]
  },
  {
   "cell_type": "code",
   "execution_count": 13,
   "metadata": {},
   "outputs": [
    {
     "name": "stdout",
     "output_type": "stream",
     "text": [
      "45.0\n",
      "36.0\n",
      "9.0\n"
     ]
    }
   ],
   "source": [
    "print(floatFinalWeighted)\n",
    "print(floatMidtermWeighted)\n",
    "print(floatQuizWeighted)"
   ]
  },
  {
   "cell_type": "code",
   "execution_count": 14,
   "metadata": {},
   "outputs": [
    {
     "name": "stdout",
     "output_type": "stream",
     "text": [
      "your final grade is 90.0\n"
     ]
    }
   ],
   "source": [
    "FinalGrade=floatQuizWeighted+floatMidtermWeighted+floatFinalWeighted\n",
    "print(f\"your final grade is {FinalGrade}\")"
   ]
  },
  {
   "cell_type": "code",
   "execution_count": 16,
   "metadata": {},
   "outputs": [],
   "source": [
    "def FarenheitToCelcius(Temp):\n",
    "    return (Temp-32) * (5/9)\n"
   ]
  },
  {
   "cell_type": "code",
   "execution_count": 22,
   "metadata": {},
   "outputs": [
    {
     "name": "stdout",
     "output_type": "stream",
     "text": [
      "The temperature in farenheight is 36.111111111111114 degrees in celcius\n"
     ]
    }
   ],
   "source": [
    "intFarenheit=int(input(\"enter Temp\"))\n",
    "converted=FarenheitToCelcius(intFarenheit)\n",
    "print(f\"The temperature in farenheight is {converted} degrees in celcius\")"
   ]
  },
  {
   "cell_type": "code",
   "execution_count": 27,
   "metadata": {},
   "outputs": [
    {
     "name": "stdout",
     "output_type": "stream",
     "text": [
      "My best and most favorite friend is Annie\n"
     ]
    }
   ],
   "source": [
    "MyBestFriend=\"Annie\"\n",
    "print(f\"My best and most favorite friend is {MyBestFriend}\")"
   ]
  },
  {
   "cell_type": "code",
   "execution_count": 29,
   "metadata": {},
   "outputs": [],
   "source": [
    "def FarenheitToCelcius(temp):\n",
    "    global day\n",
    "    print(\"today is \", day)\n",
    "    day=\"Thursday\"\n",
    "    return (temp-32)*5/9"
   ]
  },
  {
   "cell_type": "code",
   "execution_count": null,
   "metadata": {},
   "outputs": [
    {
     "name": "stdout",
     "output_type": "stream",
     "text": [
      "today is  Wednesday\n",
      "the temp in celcius is 31.11111111111111\n",
      "today is  Thursday\n"
     ]
    }
   ],
   "source": [
    "day=\"Wednesday\"\n",
    "while True:\n",
    "    intFarenheit=int(input(\"whats the temp\"))\n",
    "    print(f\"the temp in celcius is {FarenheitToCelcius(intFarenheit)}\")\n",
    "    if intFarenheit==0:\n",
    "        break\n",
    "    print(\"today is \", day)"
   ]
  }
 ],
 "metadata": {
  "kernelspec": {
   "display_name": "Python 3",
   "language": "python",
   "name": "python3"
  },
  "language_info": {
   "codemirror_mode": {
    "name": "ipython",
    "version": 3
   },
   "file_extension": ".py",
   "mimetype": "text/x-python",
   "name": "python",
   "nbconvert_exporter": "python",
   "pygments_lexer": "ipython3",
   "version": "3.12.1"
  }
 },
 "nbformat": 4,
 "nbformat_minor": 2
}
